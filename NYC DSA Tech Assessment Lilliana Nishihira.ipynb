{
 "cells": [
  {
   "cell_type": "markdown",
   "metadata": {},
   "source": [
    "### Question 1\n",
    "\n",
    "You work for a real estate development company that is trying to determine the perimeter of a lake. The company is planning to split up the land around the lake into different properties\n",
    "<br>\n",
    "As you examine the lake, you notice that a particular oddity manifests. From an aerial view, the lake shore looks smooth like a curve. However, as you zoom in and take a closer look you notice that the lake shore has ridges and nooks. If you walk around the lake, you see that the ridges and nooks have smaller ridges and nooks of their own\n",
    "<br>\n",
    "Formulate a discussion that addresses this issue and propose a method that would best approximate the perimeter of the lake\n"
   ]
  },
  {
   "cell_type": "markdown",
   "metadata": {},
   "source": [
    "#### Initial Responses:\n",
    "If time were not an issue one suggestion would be to find as many diameters as possible and create a statistical spread, the true diameter must lie somewhere between the largest and the smallest. This would allow you to understand how many diameters fall closer to the largest,smallest, median etc. and see where the true diameter will most likely lie.\n",
    "\n",
    "Another option would be to count all the large and small rideges and set a benchmark for a ridge size that you will take into account when measuring diameter, maybe based on the depth of water around that ridge, larger ones will have encapsulated more water "
   ]
  },
  {
   "cell_type": "markdown",
   "metadata": {},
   "source": [
    "#### After doing more research;\n",
    "I know there are mathematical tools called \"smoothers\" that allow you to describe complex curves with simplified, \"smoothed-out\" versions of the function...\n",
    "<br>\n",
    "Since the ridges are often very small and irregular about the perimeter, including their distance in the diameter to estimate the perimeter of the whole would be inaccuate. \n",
    "<br>\n",
    "However instead, we could use smoothers such as [Bézier_curve](https://en.wikipedia.org/wiki/B%C3%A9zier_curve#Higher-order_curves) to create estimations from the ridges and use the apex of those curves as points to measure the diameter from, this way you are accounting for the presence of the ridge without giving it too much importance.\n",
    "<br>\n",
    "This, combined with my original suggestion to take multiple diameter measurements should create a decent approximation."
   ]
  },
  {
   "cell_type": "code",
   "execution_count": null,
   "metadata": {},
   "outputs": [],
   "source": []
  },
  {
   "cell_type": "code",
   "execution_count": 44,
   "metadata": {},
   "outputs": [],
   "source": [
    "import pandas as pd"
   ]
  },
  {
   "cell_type": "markdown",
   "metadata": {},
   "source": [
    "### Question 2"
   ]
  },
  {
   "cell_type": "markdown",
   "metadata": {},
   "source": [
    " You work for a shipping company and your manager receives orders from various customers every day \n",
    " (some existing, some new). Your manager wishes to establish a process to automate tracking the orders received by the company. You can assume the daily data arrives as a list/array/vector of strings and follows this exact format (note that customers may place separate orders in a single day):\n",
    " - day_i = [“Bob:100”, “Alice:100”, “Celia:110”, “Bob:20”]\n",
    "\n",
    "Write a script that, when given the daily data, will keep track of the total purchase amount for each customer. You can assume that the data “day_i” already exists in memory (i.e. you don’t need to read it from a text file or database). "
   ]
  },
  {
   "cell_type": "code",
   "execution_count": 52,
   "metadata": {},
   "outputs": [
    {
     "name": "stdout",
     "output_type": "stream",
     "text": [
      "Total customer orders: \n"
     ]
    },
    {
     "data": {
      "text/html": [
       "<div>\n",
       "<style scoped>\n",
       "    .dataframe tbody tr th:only-of-type {\n",
       "        vertical-align: middle;\n",
       "    }\n",
       "\n",
       "    .dataframe tbody tr th {\n",
       "        vertical-align: top;\n",
       "    }\n",
       "\n",
       "    .dataframe thead th {\n",
       "        text-align: right;\n",
       "    }\n",
       "</style>\n",
       "<table border=\"1\" class=\"dataframe\">\n",
       "  <thead>\n",
       "    <tr style=\"text-align: right;\">\n",
       "      <th></th>\n",
       "      <th>Bob</th>\n",
       "      <th>Alice</th>\n",
       "      <th>Celia</th>\n",
       "    </tr>\n",
       "  </thead>\n",
       "  <tbody>\n",
       "    <tr>\n",
       "      <th>0</th>\n",
       "      <td>120</td>\n",
       "      <td>100</td>\n",
       "      <td>110</td>\n",
       "    </tr>\n",
       "  </tbody>\n",
       "</table>\n",
       "</div>"
      ],
      "text/plain": [
       "   Bob  Alice  Celia\n",
       "0  120    100    110"
      ]
     },
     "execution_count": 52,
     "metadata": {},
     "output_type": "execute_result"
    }
   ],
   "source": [
    "#First create a function that takes the list of strings and finds the name and the number\n",
    "day_i = [\"Bob:100\", \"Alice:100\", \"Celia:110\", \"Bob:20\"]\n",
    "day_i_split = [] \n",
    "\n",
    "for i in day_i:\n",
    "    day_i_split.append(i.split(\":\")) #split up each string entry so the name and number value can be accessed seperately\n",
    "    \n",
    "\n",
    "customer_total = {} #empty dictionary to aggregate values   \n",
    "    \n",
    "for i in day_i_split:\n",
    "    i[1] = int(i[1]) #turn num into type int\n",
    "    if i[0] not in customer_total.keys(): #if the name does not exist yet, add name and number to dictionary\n",
    "        customer_total[i[0]] = i[1]\n",
    "    else:\n",
    "        customer_total[i[0]] = customer_total[i[0]] + i[1] #if name already exists, add existing number to incoming number\n",
    "\n",
    "#turn dict into DataFrame \n",
    "customer_total_df = pd.DataFrame([customer_total], columns=customer_total.keys())\n",
    "print(\"Total customer orders: \")\n",
    "customer_total_df"
   ]
  },
  {
   "cell_type": "code",
   "execution_count": null,
   "metadata": {},
   "outputs": [],
   "source": []
  },
  {
   "cell_type": "markdown",
   "metadata": {},
   "source": [
    "### Question 3\n",
    "\n",
    "You work for a professional psychic. Unfortunately, this particular psychic has trouble reading minds, which is a service she would like to offer her clients. The psychic hires you to write a script that will correctly guess an unknown integer that has been picked by her client. \n",
    "<br>\n",
    "The script should accept a lower and upper bound which is provided by the client and should use the minimum number of guesses to discover the unknown integer. The unknown integer will always lie within the lower and upper bounds specified by the client. \n",
    "<br>\n",
    "The script should not have access to the unknown integer when the code initially runs. The client can give input in only two ways: specifying the lower and upper bounds; and by answering yes/no questions. Write the code to perform this task."
   ]
  },
  {
   "cell_type": "code",
   "execution_count": 53,
   "metadata": {},
   "outputs": [],
   "source": [
    "\n",
    "#import ranint to provide a random guess between lower bound and upper bound\n",
    "from random import randint"
   ]
  },
  {
   "cell_type": "code",
   "execution_count": 54,
   "metadata": {},
   "outputs": [
    {
     "name": "stdout",
     "output_type": "stream",
     "text": [
      "Please provide the secret number of your hearts' desire: 158\n"
     ]
    }
   ],
   "source": [
    "#input form user for secret number\n",
    "secret_number = int(input(\"Please provide the secret number of your hearts' desire: \"))   "
   ]
  },
  {
   "cell_type": "code",
   "execution_count": 55,
   "metadata": {},
   "outputs": [
    {
     "name": "stdout",
     "output_type": "stream",
     "text": [
      "Please provide a lower bound: 153\n",
      "Please provide an upper bound 159\n"
     ]
    }
   ],
   "source": [
    "lower_bound = int(input(\"Please provide a lower bound: \"))\n",
    "upper_bound = int(input(\"Please provide an upper bound \"))"
   ]
  },
  {
   "cell_type": "code",
   "execution_count": 62,
   "metadata": {},
   "outputs": [],
   "source": [
    "already_guessed = []\n",
    "\n",
    "def guess_number(lower, upper):\n",
    "    ''' This function takes the upper and lower bounds provided by the user\n",
    "    then selects a random integer between those bounds\n",
    "    if the number is the secret number the script will end snd return that number\n",
    "    if it is not, it will ask the user if the secret number is LOWER than the guessed number\n",
    "    if yes it will call itself recursively and use the guessed number as the new upper bound\n",
    "    \n",
    "    Unfortunatly, there should be a already_guessed list that the script checks (?) because it often guesses the same numbers.'''\n",
    "    guessed_number = randint(lower,upper)\n",
    "    already_guessed.append(guessed_number)\n",
    "    if guessed_number == secret_number:\n",
    "        print(\"The inner eye speaks strongly towards the number: \" + str(guessed_number))\n",
    "        return guessed_number\n",
    "    else:\n",
    "        print(\"The inner eye is cloudy and is showing me: \" + str(guessed_number))\n",
    "        \n",
    "        answer = input(\"Is your number less than the guessed? Please answer yes or no \")\n",
    "        if answer == 'yes': # & guessed_number not in already_guessed\n",
    "            return guess_number(lower, guessed_number)\n",
    "        else: \n",
    "            return guess_number(guessed_number, upper)"
   ]
  },
  {
   "cell_type": "code",
   "execution_count": 63,
   "metadata": {
    "scrolled": false
   },
   "outputs": [
    {
     "name": "stdout",
     "output_type": "stream",
     "text": [
      "The inner eye is cloudy and is showing me: 159\n",
      "Is your number less than the guessed? Please answer yes or no yes\n",
      "The inner eye is cloudy and is showing me: 154\n",
      "Is your number less than the guessed? Please answer yes or no no\n",
      "The inner eye is cloudy and is showing me: 155\n",
      "Is your number less than the guessed? Please answer yes or no no\n",
      "The inner eye is cloudy and is showing me: 156\n",
      "Is your number less than the guessed? Please answer yes or no no\n",
      "The inner eye is cloudy and is showing me: 159\n",
      "Is your number less than the guessed? Please answer yes or no yes\n",
      "The inner eye speaks strongly towards the number: 158\n"
     ]
    },
    {
     "data": {
      "text/plain": [
       "158"
      ]
     },
     "execution_count": 63,
     "metadata": {},
     "output_type": "execute_result"
    }
   ],
   "source": [
    "guess_number(lower_bound,upper_bound)"
   ]
  },
  {
   "cell_type": "code",
   "execution_count": null,
   "metadata": {},
   "outputs": [],
   "source": []
  },
  {
   "cell_type": "markdown",
   "metadata": {},
   "source": [
    "### Question 4\n",
    "#####  A. How does NYCDSA reflect your learning style?\n",
    "\n",
    "- I appreciate that the instructor in Dplyr R asks how everyone is feeling about the material. I have been in many classes where egos are very strong and admitting that you're utterly lost is difficult which only guarentees you will remain lost. \n",
    "\n",
    "- I noticed in multiple videos that the intructor specifies what volcabulary is coming from what \"world\" of understanding. For example parameters in statistics vs arguments in computer science. \n",
    "\n",
    "- In the Unsupervised Learning lecture the instructor is speaking in math terms; dense truthful statements spoken slowly and carefully, he also makes everyone aware that he is speaking in mathy terms. \n",
    "\n",
    "- I appreciate that in Hadoop intro the instructor gives an outline of what the class is going to look like. I have had many experiences where you're furiously taking notes and while not sure why you're discussing a specific topic at a specific time. Taking a step back and recognizing the scope of a concept is immensely helpful. \n",
    "\n",
    "##### B. A suggestion\n",
    "\n",
    "- I often feel that the concept of Unsupervised Learning is too strictly differentiated from supervised learning. Although I understand the problems and goals are different isn't it the case that often a real-life data set will be explored with both unspuervised and supervised learning techniques? \n",
    "Similar to exploritory visualization vs explanatory visualization, you need one to get to the other. The way the concept is presented can give the impression that a project will include using only Supervised Learning, or Unsupervised Learning\n",
    "- Otentimes when learning techniques the environment used for examples is in a vacuum and the complexity of a full dataset is lost. I feel having one large complex example to continually go back to and reference puts all the concepts into perspective.  \n",
    "\n"
   ]
  },
  {
   "cell_type": "code",
   "execution_count": null,
   "metadata": {},
   "outputs": [],
   "source": []
  },
  {
   "cell_type": "code",
   "execution_count": null,
   "metadata": {},
   "outputs": [],
   "source": []
  },
  {
   "cell_type": "code",
   "execution_count": null,
   "metadata": {},
   "outputs": [],
   "source": []
  }
 ],
 "metadata": {
  "kernelspec": {
   "display_name": "Python 3",
   "language": "python",
   "name": "python3"
  },
  "language_info": {
   "codemirror_mode": {
    "name": "ipython",
    "version": 3
   },
   "file_extension": ".py",
   "mimetype": "text/x-python",
   "name": "python",
   "nbconvert_exporter": "python",
   "pygments_lexer": "ipython3",
   "version": "3.7.3"
  }
 },
 "nbformat": 4,
 "nbformat_minor": 2
}
